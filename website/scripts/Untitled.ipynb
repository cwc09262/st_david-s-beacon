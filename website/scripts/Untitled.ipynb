{
 "cells": [
  {
   "cell_type": "markdown",
   "id": "61d9630b",
   "metadata": {},
   "source": [
    "# Psalms to CSV Format\n"
   ]
  },
  {
   "cell_type": "code",
   "execution_count": 4,
   "id": "f2ce3354",
   "metadata": {},
   "outputs": [
    {
     "data": {
      "text/plain": [
       "'/opt/notebooks/website/scripts'"
      ]
     },
     "execution_count": 4,
     "metadata": {},
     "output_type": "execute_result"
    }
   ],
   "source": [
    "import os\n",
    "\n",
    "os.getcwd()"
   ]
  },
  {
   "cell_type": "code",
   "execution_count": 22,
   "id": "411cd124",
   "metadata": {},
   "outputs": [
    {
     "data": {
      "text/html": [
       "<div>\n",
       "<style scoped>\n",
       "    .dataframe tbody tr th:only-of-type {\n",
       "        vertical-align: middle;\n",
       "    }\n",
       "\n",
       "    .dataframe tbody tr th {\n",
       "        vertical-align: top;\n",
       "    }\n",
       "\n",
       "    .dataframe thead th {\n",
       "        text-align: right;\n",
       "    }\n",
       "</style>\n",
       "<table border=\"1\" class=\"dataframe\">\n",
       "  <thead>\n",
       "    <tr style=\"text-align: right;\">\n",
       "      <th></th>\n",
       "      <th>Psalm Number</th>\n",
       "      <th>Text</th>\n",
       "      <th>Source</th>\n",
       "    </tr>\n",
       "  </thead>\n",
       "  <tbody>\n",
       "    <tr>\n",
       "      <th>0</th>\n",
       "      <td>-1</td>\n",
       "      <td>PSALM -1\\nprophetic statements illustrating th...</td>\n",
       "      <td>bible</td>\n",
       "    </tr>\n",
       "    <tr>\n",
       "      <th>1</th>\n",
       "      <td>0</td>\n",
       "      <td>PSALM 0\\nThey pierced My hands and\\nMy feet is...</td>\n",
       "      <td>bible</td>\n",
       "    </tr>\n",
       "    <tr>\n",
       "      <th>2</th>\n",
       "      <td>1</td>\n",
       "      <td>PSALM 1\\nBlessed is the man\\nWho walks not in ...</td>\n",
       "      <td>bible</td>\n",
       "    </tr>\n",
       "    <tr>\n",
       "      <th>3</th>\n",
       "      <td>2</td>\n",
       "      <td>PSALM 2\\nWhy do the nations rage\\nAnd the peop...</td>\n",
       "      <td>bible</td>\n",
       "    </tr>\n",
       "    <tr>\n",
       "      <th>4</th>\n",
       "      <td>3</td>\n",
       "      <td>PSALM 3\\n[NEXT VERSE] 1 \\nA psalm by David whe...</td>\n",
       "      <td>bible</td>\n",
       "    </tr>\n",
       "    <tr>\n",
       "      <th>...</th>\n",
       "      <td>...</td>\n",
       "      <td>...</td>\n",
       "      <td>...</td>\n",
       "    </tr>\n",
       "    <tr>\n",
       "      <th>303</th>\n",
       "      <td>148</td>\n",
       "      <td>PSALM 148\\n[NEXT VERSE] [NEXT VERSE]Alleluia. ...</td>\n",
       "      <td>psalter</td>\n",
       "    </tr>\n",
       "    <tr>\n",
       "      <th>304</th>\n",
       "      <td>149</td>\n",
       "      <td>PSALM 149\\n[NEXT VERSE] [NEXT VERSE]Alleluia. ...</td>\n",
       "      <td>psalter</td>\n",
       "    </tr>\n",
       "    <tr>\n",
       "      <th>305</th>\n",
       "      <td>150</td>\n",
       "      <td>PSALM 150\\n[NEXT VERSE] [NEXT VERSE]Alleluia. ...</td>\n",
       "      <td>psalter</td>\n",
       "    </tr>\n",
       "    <tr>\n",
       "      <th>306</th>\n",
       "      <td>151</td>\n",
       "      <td>PSALM 151\\n[NEXT VERSE] [NEXT VERSE]This Psalm...</td>\n",
       "      <td>psalter</td>\n",
       "    </tr>\n",
       "    <tr>\n",
       "      <th>307</th>\n",
       "      <td>152</td>\n",
       "      <td>PSALM 152\\n[NEXT VERSE] [NEXT VERSE]This Psalm...</td>\n",
       "      <td>psalter</td>\n",
       "    </tr>\n",
       "  </tbody>\n",
       "</table>\n",
       "<p>308 rows × 3 columns</p>\n",
       "</div>"
      ],
      "text/plain": [
       "     Psalm Number                                               Text   Source\n",
       "0              -1  PSALM -1\\nprophetic statements illustrating th...    bible\n",
       "1               0  PSALM 0\\nThey pierced My hands and\\nMy feet is...    bible\n",
       "2               1  PSALM 1\\nBlessed is the man\\nWho walks not in ...    bible\n",
       "3               2  PSALM 2\\nWhy do the nations rage\\nAnd the peop...    bible\n",
       "4               3  PSALM 3\\n[NEXT VERSE] 1 \\nA psalm by David whe...    bible\n",
       "..            ...                                                ...      ...\n",
       "303           148  PSALM 148\\n[NEXT VERSE] [NEXT VERSE]Alleluia. ...  psalter\n",
       "304           149  PSALM 149\\n[NEXT VERSE] [NEXT VERSE]Alleluia. ...  psalter\n",
       "305           150  PSALM 150\\n[NEXT VERSE] [NEXT VERSE]Alleluia. ...  psalter\n",
       "306           151  PSALM 151\\n[NEXT VERSE] [NEXT VERSE]This Psalm...  psalter\n",
       "307           152  PSALM 152\\n[NEXT VERSE] [NEXT VERSE]This Psalm...  psalter\n",
       "\n",
       "[308 rows x 3 columns]"
      ]
     },
     "execution_count": 22,
     "metadata": {},
     "output_type": "execute_result"
    }
   ],
   "source": [
    "import os\n",
    "import pandas as pd\n",
    "\n",
    "# Define the base directory where the psalms are stored\n",
    "base_dir = '../data/psalms/'\n",
    "\n",
    "# Initialize a list to hold Psalm data\n",
    "data = []\n",
    "\n",
    "# Loop through the subdirectories (psalter and bible)\n",
    "for source in ['psalter', 'bible']:\n",
    "    path = os.path.join(base_dir, source)\n",
    "    if os.path.exists(path):\n",
    "        for filename in sorted(os.listdir(path)):\n",
    "            if filename.endswith('.txt'):\n",
    "                psalm_number = filename.split('_')[1].split('.')[0]\n",
    "                with open(os.path.join(path, filename), 'r', encoding='utf-8') as file:\n",
    "                    text = file.read().strip()\n",
    "                data.append({'Psalm Number': int(psalm_number), 'Text': text, 'Source': source})\n",
    "    else:\n",
    "        print(f\"Directory not found: {path}\")\n",
    "\n",
    "# Convert list to DataFrame\n",
    "df = pd.DataFrame(data)\n",
    "\n",
    "# Sort by Psalm Number\n",
    "df = df.sort_values(by=['Source', 'Psalm Number']).reset_index(drop=True)\n",
    "\n",
    "# Display the first few rows\n",
    "df"
   ]
  },
  {
   "cell_type": "code",
   "execution_count": 23,
   "id": "eaf7c2db",
   "metadata": {},
   "outputs": [
    {
     "data": {
      "text/plain": [
       "'PSALM 0\\nThey pierced My hands and\\nMy feet is used in the Church on Great and Holy Friday Thus using the Psalms is crucial to our understanding of the fullness of\\nChrists ministry to His people\\n[NEXT VERSE] 4 Purpose The Psalms serve many functions They a foretell coming events b recall history c frame laws for life d reveal what\\nmust be done to obey Gods word e are a treasury of good doctrine and f help overcome the passions that exercise dominion over our\\nsouls through the power of poetic expression to capture and gradually transform our thoughts'"
      ]
     },
     "execution_count": 23,
     "metadata": {},
     "output_type": "execute_result"
    }
   ],
   "source": [
    "# Getting rid of all the line break characters\n",
    "df.iloc[0][\"Text\"]\n",
    "df.iloc[1][\"Text\"]"
   ]
  },
  {
   "cell_type": "markdown",
   "id": "d10b4c97",
   "metadata": {},
   "source": [
    "The two rows above are not psalms, so we are going to get rid of them."
   ]
  },
  {
   "cell_type": "code",
   "execution_count": 25,
   "id": "f355aae1",
   "metadata": {
    "scrolled": true
   },
   "outputs": [
    {
     "data": {
      "text/html": [
       "<div>\n",
       "<style scoped>\n",
       "    .dataframe tbody tr th:only-of-type {\n",
       "        vertical-align: middle;\n",
       "    }\n",
       "\n",
       "    .dataframe tbody tr th {\n",
       "        vertical-align: top;\n",
       "    }\n",
       "\n",
       "    .dataframe thead th {\n",
       "        text-align: right;\n",
       "    }\n",
       "</style>\n",
       "<table border=\"1\" class=\"dataframe\">\n",
       "  <thead>\n",
       "    <tr style=\"text-align: right;\">\n",
       "      <th></th>\n",
       "      <th>Psalm Number</th>\n",
       "      <th>Text</th>\n",
       "      <th>Source</th>\n",
       "    </tr>\n",
       "  </thead>\n",
       "  <tbody>\n",
       "    <tr>\n",
       "      <th>0</th>\n",
       "      <td>3</td>\n",
       "      <td>PSALM 3\\n[NEXT VERSE] 1 \\nA psalm by David whe...</td>\n",
       "      <td>bible</td>\n",
       "    </tr>\n",
       "    <tr>\n",
       "      <th>1</th>\n",
       "      <td>4</td>\n",
       "      <td>PSALM 4\\n[NEXT VERSE] 1 \\nFor the End in psalm...</td>\n",
       "      <td>bible</td>\n",
       "    </tr>\n",
       "    <tr>\n",
       "      <th>2</th>\n",
       "      <td>5</td>\n",
       "      <td>PSALM 5\\n[NEXT VERSE] 1 \\nFor the End concerni...</td>\n",
       "      <td>bible</td>\n",
       "    </tr>\n",
       "    <tr>\n",
       "      <th>3</th>\n",
       "      <td>6</td>\n",
       "      <td>PSALM 6\\n[NEXT VERSE] 1 \\nFor the End in hymns...</td>\n",
       "      <td>bible</td>\n",
       "    </tr>\n",
       "    <tr>\n",
       "      <th>4</th>\n",
       "      <td>7</td>\n",
       "      <td>PSALM 7\\n1A psalm by David which he sang to th...</td>\n",
       "      <td>bible</td>\n",
       "    </tr>\n",
       "    <tr>\n",
       "      <th>...</th>\n",
       "      <td>...</td>\n",
       "      <td>...</td>\n",
       "      <td>...</td>\n",
       "    </tr>\n",
       "    <tr>\n",
       "      <th>299</th>\n",
       "      <td>148</td>\n",
       "      <td>PSALM 148\\n[NEXT VERSE] [NEXT VERSE]Alleluia. ...</td>\n",
       "      <td>psalter</td>\n",
       "    </tr>\n",
       "    <tr>\n",
       "      <th>300</th>\n",
       "      <td>149</td>\n",
       "      <td>PSALM 149\\n[NEXT VERSE] [NEXT VERSE]Alleluia. ...</td>\n",
       "      <td>psalter</td>\n",
       "    </tr>\n",
       "    <tr>\n",
       "      <th>301</th>\n",
       "      <td>150</td>\n",
       "      <td>PSALM 150\\n[NEXT VERSE] [NEXT VERSE]Alleluia. ...</td>\n",
       "      <td>psalter</td>\n",
       "    </tr>\n",
       "    <tr>\n",
       "      <th>302</th>\n",
       "      <td>151</td>\n",
       "      <td>PSALM 151\\n[NEXT VERSE] [NEXT VERSE]This Psalm...</td>\n",
       "      <td>psalter</td>\n",
       "    </tr>\n",
       "    <tr>\n",
       "      <th>303</th>\n",
       "      <td>152</td>\n",
       "      <td>PSALM 152\\n[NEXT VERSE] [NEXT VERSE]This Psalm...</td>\n",
       "      <td>psalter</td>\n",
       "    </tr>\n",
       "  </tbody>\n",
       "</table>\n",
       "<p>304 rows × 3 columns</p>\n",
       "</div>"
      ],
      "text/plain": [
       "     Psalm Number                                               Text   Source\n",
       "0               3  PSALM 3\\n[NEXT VERSE] 1 \\nA psalm by David whe...    bible\n",
       "1               4  PSALM 4\\n[NEXT VERSE] 1 \\nFor the End in psalm...    bible\n",
       "2               5  PSALM 5\\n[NEXT VERSE] 1 \\nFor the End concerni...    bible\n",
       "3               6  PSALM 6\\n[NEXT VERSE] 1 \\nFor the End in hymns...    bible\n",
       "4               7  PSALM 7\\n1A psalm by David which he sang to th...    bible\n",
       "..            ...                                                ...      ...\n",
       "299           148  PSALM 148\\n[NEXT VERSE] [NEXT VERSE]Alleluia. ...  psalter\n",
       "300           149  PSALM 149\\n[NEXT VERSE] [NEXT VERSE]Alleluia. ...  psalter\n",
       "301           150  PSALM 150\\n[NEXT VERSE] [NEXT VERSE]Alleluia. ...  psalter\n",
       "302           151  PSALM 151\\n[NEXT VERSE] [NEXT VERSE]This Psalm...  psalter\n",
       "303           152  PSALM 152\\n[NEXT VERSE] [NEXT VERSE]This Psalm...  psalter\n",
       "\n",
       "[304 rows x 3 columns]"
      ]
     },
     "execution_count": 25,
     "metadata": {},
     "output_type": "execute_result"
    }
   ],
   "source": [
    "df = df.drop([0, 1]).reset_index(drop=True)\n",
    "\n",
    "# Confirming the nerw dataframe\n",
    "df"
   ]
  },
  {
   "cell_type": "markdown",
   "id": "33e648ac",
   "metadata": {},
   "source": [
    "We need to now split each psalm up into verses."
   ]
  },
  {
   "cell_type": "code",
   "execution_count": null,
   "id": "2e311dde",
   "metadata": {},
   "outputs": [],
   "source": [
    "# new dataframe\n",
    "verses_df = pd.DataFrame()\n",
    "\n",
    "for index in df.iterrows():\n",
    "    num = df.iloc[index][\"Psalm_number\"]\n",
    "    text = df.iloc[index][\"Text\"]\n",
    "    \n",
    "    # Split text into verses by '[NEXT VERSE]'\n",
    "    verses = re.split(r'\\[NEXT VERSE\\]', text)\n",
    "    \n",
    "    # looping through the verse to add to the verses_df\n",
    "    for num, verse in ennumerate(verses):\n",
    "        verse_data = [{}]\n",
    "    "
   ]
  },
  {
   "cell_type": "code",
   "execution_count": 26,
   "id": "1a807557",
   "metadata": {},
   "outputs": [],
   "source": [
    "verses = []\n",
    "\n",
    "# Function to split Psalm text into verses based on '[NEXT VERSE]'\n",
    "def split_psalm_into_verses(psalm_text):\n",
    "    # Split text by '[NEXT VERSE]'\n",
    "    verses = re.split(r'\\[NEXT VERSE\\]', psalm_text)\n",
    "    \n",
    "    # Store verses in a list of dictionaries\n",
    "    verse_data = [{'Verse Number': idx + 1, 'Text': verse.strip()} for idx, verse in enumerate(verses) if verse.strip()]\n",
    "    \n",
    "    verses = pd.DataFrame(verse_data)\n"
   ]
  }
 ],
 "metadata": {
  "kernelspec": {
   "display_name": "Python 3 (ipykernel)",
   "language": "python",
   "name": "python3"
  },
  "language_info": {
   "codemirror_mode": {
    "name": "ipython",
    "version": 3
   },
   "file_extension": ".py",
   "mimetype": "text/x-python",
   "name": "python",
   "nbconvert_exporter": "python",
   "pygments_lexer": "ipython3",
   "version": "3.11.3"
  }
 },
 "nbformat": 4,
 "nbformat_minor": 5
}
