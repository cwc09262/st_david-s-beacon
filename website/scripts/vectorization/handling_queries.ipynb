{
 "cells": [
  {
   "cell_type": "markdown",
   "id": "cf1761e2",
   "metadata": {},
   "source": [
    "# Handling Queries\n",
    "\n",
    "When preforming information retrival, the majority of the time the user queries will be signifgantly shorter than the documents. This create problems in terms of weighting for the queries vs. documents. The book *Speech and Language Processing*, conducted research in examining the length of over 1,000,000 queries and found the average length of a query was 2-3 words. \n",
    "> page 654,1st edition.\n",
    "\n",
    "\n",
    "## A Mitgation \n",
    "As a mitigation, the same book reccomends the following equation taken from Staton and Buckley (1988). The Equation is below:\n",
    "$$\n",
    "w_{kj} = \\left(0.5 + \\frac{0.5 \\cdot tf_{jk}}{\\max_j tf_{jk}}\\right) \\cdot idf_j\n",
    "$$\n",
    "\n",
    "\n",
    "This formula represents a weighting scheme for term frequency-inverse document frequency (TF-IDF), often used in information retrieval. The key components are:\n",
    "- **$tf_{jk}$**: Term frequency of term **$j$** in document **$k$**.  \n",
    "- **$max_j tf_{jk}$**: Maximum term frequency of any term in document **$k$** (normalization factor).  \n",
    "- **$idf_j$**: Inverse document frequency of term **$j$**, which accounts for how common or rare a term is across the entire corpus.  \n",
    "- The term **$0.5 + \\left(0.5 \\cdot \\frac{tf_{jk}}{\\max_j tf_{jk}}\\right)$** is known as **augmented term frequency**, which helps reduce the impact of large differences in raw term frequencies.\n",
    "\n",
    "\n",
    "\n",
    "### Cosine Similarity\n",
    "Cosine similarity measures the similarity between two text vectors by calculating the cosine of the angle between them in a multi-dimensional space. It is commonly used in **TF-IDF** to compare query vectors with document vectors and find the most relevant matches.\n",
    "\n",
    ">Within the textbook, *Speech and Language Processing*, an equating for computing this cosine similarity:\n",
    ">\n",
    ">$$\n",
    "sim(\\vec{q_k},\\vec{d_j}) = \\vec{q_k}\\cdot \\vec{d_j} = \\sum_{i=1}^N w_{i,k} \\times w_{i,j}\n",
    "$$\n",
    "> Where:\n",
    "    > - $\\vec{q_k}$ is a specific query's vector\n",
    "    > - $\\vec{d_j}$ is a specific document's vector \n",
    "    > - $w_{i,k}$ is the weight of term $i$ in the query\n",
    "    > - $w_{i,j}$ is the wieght of term $i$ in the document\n",
    "\n",
    "#### Fully Normalized\n",
    "With all of that being said, we can come to a fianl cosine similarity equation, that takes into account the normalization that has been discussed. \n",
    "\n",
    "$$\n",
    "sim(\\vec{q_k},\\vec{d_j}) = \\frac{\\sum_{i=1}^N w_{i,k} \\times w_{i,j}}{\\sqrt{\\sum_{i=1}^N w_{i,k}^2} \\times \\sqrt{\\sum_{i=1}^N w_{i,j}^2}}\n",
    "$$\n",
    "\n",
    "\n",
    "Within the formula above, the dot product is invoked. In most cases, this is not useful as a similarity, due to the sensitvity to actuals magnitudes of the different documents and queries. On the other hand, the dot product can help compute the cosine of the different **normalized vectors**. This concept of normalized vectors is the concept intruduced and explained right above this. \n",
    "\n",
    "As another note to this, when the cosine of two vecotrs is one, the documents are identical. When the cosine of 2 document is 0, the documents are completely different from each other. \n",
    "\n",
    "> This has all come from the text book *Speech and Language Processing*: $1^{st}$ edition\n",
    "### Sentence Transformers\n",
    "Sentence Transformers is a Python framework for computing dense vector representations (embeddings) of sentences, paragraphs, and documents. It extends BERT (Bidirectional Encoder Representations from Transformers) and related transformer-based models to generate meaningful numerical representations of text, enabling tasks such as semantic similarity, clustering, and retrieval.\n",
    "\n",
    "This is going to be applied to each query after the the query runs through the prviously created data pipline that all the psalms went through originally. \n",
    "\n",
    "Enough has been said. Let's get back to work.\n",
    "\n",
    "# Importing Some Pickles\n",
    "\n",
    "## Data Pipeline"
   ]
  },
  {
   "cell_type": "code",
   "execution_count": null,
   "id": "c75fad39",
   "metadata": {},
   "outputs": [],
   "source": []
  },
  {
   "cell_type": "code",
   "execution_count": 17,
   "id": "aad2bb1e",
   "metadata": {},
   "outputs": [
    {
     "name": "stdout",
     "output_type": "stream",
     "text": [
      "Requirement already satisfied: num2words in /opt/conda/lib/python3.11/site-packages (0.5.14)\n",
      "Requirement already satisfied: docopt>=0.6.2 in /opt/conda/lib/python3.11/site-packages (from num2words) (0.6.2)\n",
      "\u001b[33mWARNING: Running pip as the 'root' user can result in broken permissions and conflicting behaviour with the system package manager. It is recommended to use a virtual environment instead: https://pip.pypa.io/warnings/venv\u001b[0m\u001b[33m\n",
      "\u001b[0m"
     ]
    }
   ],
   "source": [
    "# Define the load directory where the pickle file is stored\n",
    "load_dir = \"../../data/pickles/\"\n",
    "\n",
    "!pip install num2words"
   ]
  },
  {
   "cell_type": "code",
   "execution_count": 18,
   "id": "abdf81b3",
   "metadata": {
    "scrolled": true
   },
   "outputs": [],
   "source": [
    "import sys\n",
    "import os\n",
    "import pickle\n",
    "\n",
    "# Get the current working directory and construct the cleaning path\n",
    "current_dir = os.getcwd()\n",
    "cleaning_dir = os.path.abspath(os.path.join(current_dir, \"../cleaning\"))\n",
    "\n",
    "# Add the directory to sys.path\n",
    "sys.path.append(cleaning_dir)\n",
    "\n",
    "# Now import the class\n",
    "from data_pipeline import TextPreprocessingPipeline\n",
    "\n",
    "import pickle\n",
    "\n",
    "with open(\"../../data/pickles/pipeline.pickle\", \"rb\") as f:\n",
    "    pipeline = pickle.load(f)"
   ]
  },
  {
   "cell_type": "markdown",
   "id": "4b060923",
   "metadata": {},
   "source": [
    "## Vectorizer"
   ]
  },
  {
   "cell_type": "code",
   "execution_count": 19,
   "id": "21a564f7",
   "metadata": {},
   "outputs": [
    {
     "data": {
      "text/plain": [
       "'/opt/notebooks/website/scripts/vectorization'"
      ]
     },
     "execution_count": 19,
     "metadata": {},
     "output_type": "execute_result"
    }
   ],
   "source": [
    "os.getcwd()"
   ]
  },
  {
   "cell_type": "code",
   "execution_count": 20,
   "id": "49e4fe72",
   "metadata": {},
   "outputs": [],
   "source": [
    "current = os.getcwd()\n",
    "\n",
    "# Load the pickled vectorizer\n",
    "vectorizer_path = os.path.join(\"../../data/pickles/psalms_tfidf_vectorizer.pickle\")\n",
    "with open(vectorizer_path, \"rb\") as file:\n",
    "    psalm_vectorizer = pickle.load(file)"
   ]
  },
  {
   "cell_type": "markdown",
   "id": "a50e0a8f",
   "metadata": {},
   "source": [
    "## TF_IDF  Models\n",
    "\n",
    "### Full Psalms Model\n",
    "This model applies TF-IDF to entire psalms, treating each psalm as a single document. It captures the overall thematic and linguistic patterns across different traditions and translations."
   ]
  },
  {
   "cell_type": "code",
   "execution_count": 21,
   "id": "012c5644",
   "metadata": {},
   "outputs": [],
   "source": [
    "# Loading the Pretrained Model\n",
    "current = os.getcwd()\n",
    "\n",
    "with open(\"../../data/pickles/psalms_tfidf_matrix.pickle\", \"rb\") as file:\n",
    "    tf_idf_psalms = pickle.load(file)"
   ]
  },
  {
   "cell_type": "code",
   "execution_count": null,
   "id": "d1a98bdc",
   "metadata": {},
   "outputs": [],
   "source": []
  },
  {
   "cell_type": "markdown",
   "id": "4c35d793",
   "metadata": {},
   "source": [
    "### Individual Verses Model\n",
    "\n",
    " This model applies TF-IDF at the verse level, treating each verse as an individual document. It highlights local word usage variations and allows for a more granular analysis of textual similarities between specific verses."
   ]
  },
  {
   "cell_type": "code",
   "execution_count": 22,
   "id": "a8945968",
   "metadata": {},
   "outputs": [],
   "source": [
    "with open(\"../../data/pickles/psalm_verses_tfidf_matrix.pickle\", \"rb\") as file:\n",
    "    tf_idf_psalm_verses = pickle.load(file)"
   ]
  },
  {
   "cell_type": "markdown",
   "id": "fe96665e",
   "metadata": {},
   "source": [
    "## Fucntion to Proccess Queries and Find Similarities\n",
    "\n",
    "Alot of this process and code comes from going through the proccess of getting to running the model. The cosine similarity work comes as inspiration from the *Medium* atricle: [TF-IDF Vectorization with Cosine Similarity](https://medium.com/@anurag-jain/tf-idf-vectorization-with-cosine-similarity-eca3386d4423)."
   ]
  },
  {
   "cell_type": "code",
   "execution_count": 23,
   "id": "4534d254",
   "metadata": {
    "scrolled": true
   },
   "outputs": [
    {
     "name": "stdout",
     "output_type": "stream",
     "text": [
      "\u001b[1mSearching for:\u001b[0m 'Praise the Lord with all my soul'.\n",
      "\n",
      "#1 -> Psalm ('Bible', 150): Similarity: 0.2741997878367659\n",
      "KeyError: 150 not found in top_psalms index.\n",
      "#2 -> Psalm ('Bible', 148): Similarity: 0.21750387527655166\n",
      "KeyError: 148 not found in top_psalms index.\n",
      "#3 -> Psalm ('Psalter', 148): Similarity: 0.19865598629932982\n",
      "KeyError: 148 not found in top_psalms index.\n",
      "#4 -> Psalm ('Psalter', 33): Similarity: 0.19586927071031507\n",
      "KeyError: 33 not found in top_psalms index.\n",
      "#5 -> Psalm ('Bible', 116): Similarity: 0.19307330426963282\n",
      "KeyError: 116 not found in top_psalms index.\n"
     ]
    }
   ],
   "source": [
    "from sklearn.metrics.pairwise import cosine_similarity\n",
    "\n",
    "\n",
    "# sample query\n",
    "query = \"Praise the Lord with all my soul\"\n",
    "\n",
    "# Displaying the query\n",
    "print(f\"\\033[1mSearching for:\\033[0m '{query}'.\\n\")\n",
    "\n",
    "# Running the query through the data pipeline\n",
    "#clean_query = pipeline.pipeline(query)\n",
    "\n",
    "\n",
    "# Transform the query using the loaded vectorizer\n",
    "clean_vec = psalm_vectorizer.transform([query])\n",
    "\n",
    "# Calculate the cosine similarity between the query vector and the TF-IDF matrix\n",
    "cosine_similarities = cosine_similarity(clean_vec, tf_idf_psalms).flatten()\n",
    "\n",
    "# Get the indices of the top_n most similar Psalms (for example, top 5)\n",
    "num_top = 5\n",
    "top_indices = cosine_similarities.argsort()[-5:][::-1]\n",
    "\n",
    "# Retrieve the text and Psalm numbers of the top matching Psalms\n",
    "top_psalms = tf_idf_psalms.iloc[top_indices]\n",
    "\n",
    "n = 1\n",
    "# Print the results with proper handling of the MultiIndex\n",
    "for idx in top_indices:\n",
    "    psalm_index = tf_idf_psalms.index[idx]\n",
    "    psalm_num = psalm_index[1]  # Assuming psalm_num is the second part of the tuple\n",
    "\n",
    "    # Adjust the index lookup based on top_psalms structure\n",
    "    try:\n",
    "        # If top_psalms uses a single index (psalm_num), use that for lookup\n",
    "        print(f\"#{n} -> Psalm {psalm_index}: Similarity: {cosine_similarities[idx]}\")\n",
    "        print(f\"Text: {top_psalms.loc[psalm_num]['text']}\")\n",
    "    except KeyError:\n",
    "        print(f\"KeyError: {psalm_num} not found in top_psalms index.\")\n",
    "    \n",
    "    n +=1"
   ]
  },
  {
   "cell_type": "code",
   "execution_count": 24,
   "id": "9fe81983",
   "metadata": {},
   "outputs": [],
   "source": [
    "def search_psalms(query, vectorizer, model, num_results):\n",
    "    # Displaying the query\n",
    "    print(f\"\\033[1mSearching for:\\033[0m {query}.\\n\")\n",
    "    \n",
    "    # Running the query through the data pipeline\n",
    "    clean_query = pipeline.pipeline(query)\n",
    "\n",
    "    # Transform the query using the loaded vectorizer\n",
    "    clean_vec = vectorizer.transform([clean_query])\n",
    "\n",
    "    # Calculate the cosine similarity between the query vector and the TF-IDF matrix\n",
    "    cosine_similarities = cosine_similarity(clean_vec, model).flatten()\n",
    "\n",
    "    # Get the indices of the top_n most similar Psalms\n",
    "    top_indices = cosine_similarities.argsort()[-int(num_results):][::-1]\n",
    "\n",
    "    # Retrieve the corresponding Psalm indexes\n",
    "    top_psalm_indices = model.index[top_indices]\n",
    "\n",
    "    # For the ranking of the results\n",
    "    n = 1\n",
    "    \n",
    "    return(top_indices)\n"
   ]
  },
  {
   "cell_type": "markdown",
   "id": "73475a44",
   "metadata": {},
   "source": [
    "## Indexing Function to Show Found Psalms\n",
    "This is going to index and print the first part of each psalm in thhe search results. "
   ]
  },
  {
   "cell_type": "code",
   "execution_count": 25,
   "id": "d102bdf9",
   "metadata": {},
   "outputs": [
    {
     "data": {
      "text/html": [
       "<div>\n",
       "<style scoped>\n",
       "    .dataframe tbody tr th:only-of-type {\n",
       "        vertical-align: middle;\n",
       "    }\n",
       "\n",
       "    .dataframe tbody tr th {\n",
       "        vertical-align: top;\n",
       "    }\n",
       "\n",
       "    .dataframe thead th {\n",
       "        text-align: right;\n",
       "    }\n",
       "</style>\n",
       "<table border=\"1\" class=\"dataframe\">\n",
       "  <thead>\n",
       "    <tr style=\"text-align: right;\">\n",
       "      <th></th>\n",
       "      <th>tradition</th>\n",
       "      <th>text</th>\n",
       "      <th>psalm_num</th>\n",
       "      <th>verse_num</th>\n",
       "      <th>verse</th>\n",
       "    </tr>\n",
       "  </thead>\n",
       "  <tbody>\n",
       "    <tr>\n",
       "      <th>0</th>\n",
       "      <td>Orthodox</td>\n",
       "      <td>Bible</td>\n",
       "      <td>1</td>\n",
       "      <td>1</td>\n",
       "      <td>Blessed is the man Who walks not in the counse...</td>\n",
       "    </tr>\n",
       "    <tr>\n",
       "      <th>1</th>\n",
       "      <td>Orthodox</td>\n",
       "      <td>Bible</td>\n",
       "      <td>1</td>\n",
       "      <td>2</td>\n",
       "      <td>But his will is in the law of the Lord And in ...</td>\n",
       "    </tr>\n",
       "    <tr>\n",
       "      <th>2</th>\n",
       "      <td>Orthodox</td>\n",
       "      <td>Bible</td>\n",
       "      <td>1</td>\n",
       "      <td>3</td>\n",
       "      <td>He shall be like a tree Planted by streams of ...</td>\n",
       "    </tr>\n",
       "    <tr>\n",
       "      <th>3</th>\n",
       "      <td>Orthodox</td>\n",
       "      <td>Bible</td>\n",
       "      <td>1</td>\n",
       "      <td>4</td>\n",
       "      <td>Not so are the ungodly not so But they are lik...</td>\n",
       "    </tr>\n",
       "    <tr>\n",
       "      <th>4</th>\n",
       "      <td>Orthodox</td>\n",
       "      <td>Bible</td>\n",
       "      <td>1</td>\n",
       "      <td>5</td>\n",
       "      <td>Therefore the ungodly shall not rise in the ju...</td>\n",
       "    </tr>\n",
       "  </tbody>\n",
       "</table>\n",
       "</div>"
      ],
      "text/plain": [
       "  tradition   text  psalm_num  verse_num  \\\n",
       "0  Orthodox  Bible          1          1   \n",
       "1  Orthodox  Bible          1          2   \n",
       "2  Orthodox  Bible          1          3   \n",
       "3  Orthodox  Bible          1          4   \n",
       "4  Orthodox  Bible          1          5   \n",
       "\n",
       "                                               verse  \n",
       "0  Blessed is the man Who walks not in the counse...  \n",
       "1  But his will is in the law of the Lord And in ...  \n",
       "2  He shall be like a tree Planted by streams of ...  \n",
       "3  Not so are the ungodly not so But they are lik...  \n",
       "4  Therefore the ungodly shall not rise in the ju...  "
      ]
     },
     "execution_count": 25,
     "metadata": {},
     "output_type": "execute_result"
    }
   ],
   "source": [
    "import pandas as pd\n",
    "psalms = pd.read_csv(\"../../data/csv/cleaned_psalm_verses.csv\")\n",
    "\n",
    "psalms.head()"
   ]
  },
  {
   "cell_type": "code",
   "execution_count": 26,
   "id": "46d0ae96",
   "metadata": {
    "scrolled": true
   },
   "outputs": [
    {
     "name": "stdout",
     "output_type": "stream",
     "text": [
      "('Bible', 25) \n",
      "\n",
      "    Text: Bible\n",
      "    Psalm Number: 25\n",
      "\n",
      "      Of David Judge me O Lord for I walk in my innocence And by hoping in the Lord I shall not weaken Prove me O Lord and test me Try my reins and my heart in the fire For Your mercy is before my eyes And I was wellpleasing in Your truth I have not sat do...\n",
      "('Bible', 144) \n",
      "\n",
      "    Text: Bible\n",
      "    Psalm Number: 144\n",
      "\n",
      "      A praise by David Ishall exalt You my God and my King And I shall bless Your name forever and unto ages of ages Every day I shall bless You And praise Your name forever and unto ages of ages Great is the Lord and exceedingly praiseworthy And His grea...\n",
      "('Bible', 70) \n",
      "\n",
      "    Text: Bible\n",
      "    Psalm Number: 70\n",
      "\n",
      "      By David of the sons of Jonadab and the first ones taken captive OGod in You I hope may I never be put to shame Deliver me in Your righteousness and set me free Incline Your ear to me and save me Be to me a God for protection And a strong place for s...\n"
     ]
    }
   ],
   "source": [
    "found_indices = [24, 143, 69]\n",
    "# Looping through the given indices\n",
    "for index in found_indices:\n",
    "    target_documents = tf_idf_psalms.index[index]\n",
    "    \n",
    "    # debug print statement\n",
    "    print(target_documents, \"\\n\")\n",
    "    \n",
    "    # Separating the index from \"('<DOC>', ##)\" -> <DOC> & ##\n",
    "    doc, psalm_num = tf_idf_psalms.index[index]\n",
    "    \n",
    "    print(f\"    Text: {doc}\")\n",
    "    print(f\"    Psalm Number: {psalm_num}\\n\")\n",
    "    \n",
    "    # Using these to index the psalm text to print\n",
    "    print(\"     \",\" \".join(psalms.loc[(psalms['text'] == doc)\n",
    "                                      & (psalms['psalm_num'] == psalm_num), 'verse'].tolist())[:250] + \"...\")\n",
    "\n"
   ]
  },
  {
   "cell_type": "markdown",
   "id": "b02683d5",
   "metadata": {},
   "source": [
    "Since this has worked, lets turn it into a function. Then we can add it to the `get_sim_psalm` function. "
   ]
  },
  {
   "cell_type": "code",
   "execution_count": 27,
   "id": "936cb9cf",
   "metadata": {},
   "outputs": [],
   "source": [
    "def search_psalms(query, model, num_results):\n",
    "    # Displaying the query\n",
    "    print(f\"\\033[1mSearching for:\\033[0m {query}.\\n\")\n",
    "    \n",
    "    # Reporting the number of results\n",
    "    print(f\"Top {num_results} results.\")\n",
    "    # Running the query through the data pipeline\n",
    "    clean_query = pipeline.pipeline(query)\n",
    "\n",
    "    # Transform the query using the loaded vectorizer\n",
    "    clean_vec = psalm_vectorizer.transform([clean_query])\n",
    "\n",
    "    # Calculate the cosine similarity between the query vector and the TF-IDF matrix\n",
    "    cosine_similarities = cosine_similarity(clean_vec, model).flatten()\n",
    "    \n",
    "    # Get the indices of the top_n most similar Psalms\n",
    "    top_indices = cosine_similarities.argsort()[-num_results:][::-1]\n",
    "\n",
    "    # For the ranking of the results\n",
    "    n = 1\n",
    "    \n",
    "    \n",
    "    '''Building the results based on the model given'''\n",
    "    # for psalms\n",
    "    if model is tf_idf_psalms:\n",
    "        # Looping through the indices to print them out\n",
    "        for index in top_indices:\n",
    "            # Debuging the index given\n",
    "            # print(index)\n",
    "             # Prepare results\n",
    "            result = {\"doc\": model.index[index][0], \n",
    "                       \"psalm_num\": model.index[index][1], \n",
    "                       \"similarity\": round(cosine_similarities[index] * 100, 2)\n",
    "                      }\n",
    "            # Confirming the Output\"\n",
    "            # print(result)\n",
    "            \n",
    "            # Getting the Psalm verse            \n",
    "            retrieve_psalm(result[\"doc\"], result[\"psalm_num\"])\n",
    "\n",
    "    # for psalm verse \n",
    "    elif model is tf_idf_psalm_verses:\n",
    "        # Looping through the indices to print them out\n",
    "        for index in top_indices:\n",
    "            # Debuging the index given\n",
    "            # print(index)\n",
    "             # Prepare results\n",
    "            result = {\"doc\": model.index[index][0], \n",
    "                       \"psalm_num\": model.index[index][1], \n",
    "                       \"verse_num\": model.index[index][2], \n",
    "                       \"similarity\": round(cosine_similarities[index] * 100, 2)\n",
    "                      }\n",
    "\n",
    "            # Confirming the Output\"\n",
    "            # print(result)\n",
    "            \n",
    "            # Getting the Psalm verse\n",
    "            retrieve_psalm_verses(result[\"doc\"], result[\"psalm_num\"], result[\"verse_num\"])\n",
    "\n"
   ]
  },
  {
   "cell_type": "code",
   "execution_count": 28,
   "id": "7cad8185",
   "metadata": {},
   "outputs": [],
   "source": [
    "def retrieve_psalm(doc, psalm_num):\n",
    "\n",
    "    print(f\"    Text: {doc}\")\n",
    "    print(f\"    Psalm Number: {psalm_num}\\n\")\n",
    "\n",
    "    # Retrieve and format the verse text as a paragraph\n",
    "    matching_verses = psalms.loc[(psalms['text'] == doc) & (psalms['psalm_num'] == psalm_num), 'verse']\n",
    "\n",
    "    if matching_verses.empty:\n",
    "        print(\"    No matching Psalm found.\")\n",
    "        return\n",
    "\n",
    "    # removing trails spaces\n",
    "    verse_text = \" \".join(matching_verses.tolist()).strip()\n",
    "\n",
    "    # Ensure the last full word is displayed within the first 200 characters\n",
    "    if len(verse_text) > 200:\n",
    "        verse_text = verse_text[:200]  # Slice to the first 200 characters\n",
    "        last_space = verse_text.rfind(' ')  # Find the last space in the first 200 characters\n",
    "        verse_text = verse_text[:last_space]  # Trim to the last full word\n",
    "\n",
    "    \n",
    "    # Print the first 200 characters (or last full word if it's too long)\n",
    "    print(\"   \" + verse_text + \"...\\n\")\n",
    "\n"
   ]
  },
  {
   "cell_type": "markdown",
   "id": "65b06c68",
   "metadata": {},
   "source": [
    "Now that the function is working, we are going to put it into the `search_psalms` function.  We are also going to take the above function and taylor a copy of it to to the the indivual verses. I am also trying to print the mathing verse in the context of where it is found within the target psalm itself. This is similar to seeing the bold text in the content of a result on **google**. An example of this can be seen in the image below\n",
    "![bolded_text_ex](https://storage.googleapis.com/support-forums-api/attachment/thread-99245237-2782387974984291760.png)\n"
   ]
  },
  {
   "cell_type": "code",
   "execution_count": 29,
   "id": "1d00f28f",
   "metadata": {},
   "outputs": [],
   "source": [
    "def retrieve_psalm_verses(doc, psalm_num, verse_num):\n",
    "\n",
    "    print(f\"    Text: {doc}\")\n",
    "    print(f\"    Psalm Number: {psalm_num}\")\n",
    "    print(f\"    Verse Number: {verse_num}\\n\")\n",
    "    \n",
    "    # Finding the number of verses for the specfic psalm\n",
    "    last_verse = psalms.loc[(psalms['text'] == doc) & \n",
    "                            (psalms['psalm_num'] == psalm_num),\n",
    "                            'verse_num'].max()\n",
    "\n",
    "    # Confirming the `max_verse' is working\n",
    "    #print(f\"The last verse of the Psalm is: {last_verse}.\")\n",
    "\n",
    "    # storage for the verse numbers\n",
    "    verses = [2,3,4]\n",
    "    \n",
    "    # Define storage for the verse numbers\n",
    "    # If it is the first verse\n",
    "    if verse_num== 1:\n",
    "        verses = [verse_num, verse_num + 1, verse_num + 2]\n",
    "    elif verse_num == last_verse:\n",
    "        verses = [verse_num-2, verse_num-1, verse_num]\n",
    "    else:\n",
    "        verses = [verse_num-1, verse_num, verse_num+1]\n",
    "\n",
    "    # Checking the verse generated\n",
    "    # print(f\"The verses to print: {verses}\")\n",
    "    \n",
    "    target_verses = {}\n",
    "\n",
    "    # Loop to capture all the needed verses\n",
    "    for verse in verses:\n",
    "        # Retrieve and format the verse text as a paragraph\n",
    "        matching_verse = psalms.loc[\n",
    "            (psalms['text'] == doc) & \n",
    "            (psalms['psalm_num'] == psalm_num) &\n",
    "            (psalms['verse_num'] == verse), \n",
    "            \"verse\"\n",
    "        ]\n",
    "\n",
    "        # Extract the first value from the Series if it exists\n",
    "        if not matching_verse.empty:\n",
    "            target_verses[verse] = matching_verse.iloc[0]  # Extract the first value\n",
    "        else:\n",
    "            target_verses[verse] = \"Verse not found\"\n",
    "\n",
    "    \n",
    "    \n",
    "    # BUilding the Psalm excerpt\n",
    "    excerpt = \"    \"\n",
    "    # Print the verses\n",
    "    for verse, verse_text in target_verses.items():\n",
    "        # To Bold the main verse found\n",
    "        if verse == verse_num:\n",
    "            excerpt += f\"\\033[1m {verse_text.strip('.')}.\\033[0m\"\n",
    "        else:\n",
    "            excerpt += f\" {verse_text.strip('.')}. \"\n",
    "            \n",
    "    \n",
    "    print(excerpt)\n",
    "    '''\n",
    "    # removing trails spaces\n",
    "    verse_text = \" \".join(matching_verses.tolist()).strip()\n",
    "\n",
    "    # Ensure the last full word is displayed within the first 200 characters\n",
    "    if len(verse_text) > 200:\n",
    "        verse_text = verse_text[:200]  # Slice to the first 200 characters\n",
    "        last_space = verse_text.rfind(' ')  # Find the last space in the first 200 characters\n",
    "        verse_text = verse_text[:last_space]  # Trim to the last full word\n",
    "        \n",
    "    \n",
    "    \n",
    "    # Print the first 200 characters (or last full word if it's too long)\n",
    "    print(\"   \" + verse_text + \"...\\n\")\n",
    "    '''\n"
   ]
  },
  {
   "cell_type": "markdown",
   "id": "7741e3ba",
   "metadata": {},
   "source": [
    "## Testing Verses"
   ]
  },
  {
   "cell_type": "code",
   "execution_count": 30,
   "id": "4963bf3a",
   "metadata": {
    "scrolled": false
   },
   "outputs": [
    {
     "name": "stdout",
     "output_type": "stream",
     "text": [
      "\u001b[1mSearching for:\u001b[0m For the peace of the world..\n",
      "\n",
      "Top 5 results.\n",
      "    Text: Psalter\n",
      "    Psalm Number: 95\n",
      "    Verse Number: 11\n",
      "\n",
      "     Let the heavens rejoice, and let the earth be glad; let the sea be moved, and the fulness thereof. The fields shall rejoice, and all that is therein.  Then shall all the trees of the wood rejoice before the Lord; for He cometh, for He cometh to judge the earth. \u001b[1m He shall judge the world with righteousness, and the peoples with His truth.\u001b[0m\n",
      "    Text: Psalter\n",
      "    Psalm Number: 97\n",
      "    Verse Number: 8\n",
      "\n",
      "     Shout with jubilation before the Lord our King; let the sea be moved, and the fulness thereof; the world, and all they that dwell therein.  The rivers shall clap their hands, the mountains shall rejoice at the presence of the Lord; for He cometh, He cometh to judge the earth. \u001b[1m He shall judge the world with righteousness, and the peoples with equity.\u001b[0m\n",
      "    Text: Psalter\n",
      "    Psalm Number: 18\n",
      "    Verse Number: 4\n",
      "\n",
      "     There is no speech nor language, where their voices are not heard. \u001b[1m Their sound is gone out into all the earth, and their words to the ends of the world.\u001b[0m He hath set His tabernacle in the sun, and as a bridegroom coming out of his chamber,. \n",
      "    Text: Bible\n",
      "    Psalm Number: 75\n",
      "    Verse Number: 3\n",
      "\n",
      "     Verse not found. \u001b[1m His place was made in peace And His dwelling in Zion.\u001b[0m There He broke the power of the bows Weapon and sword and battle Pause. \n",
      "    Text: Bible\n",
      "    Psalm Number: 97\n",
      "    Verse Number: 7\n",
      "\n",
      "     With trumpets of metal and the sound of a trumpet of horn Shout aloud before the Lord our King. \u001b[1m Let the sea be shaken and its fullness The world and those who dwell in it.\u001b[0m The rivers shall clap their hands together The mountains shall greatly rejoice. \n"
     ]
    }
   ],
   "source": [
    "query = \"For the peace of the world.\"\n",
    "\n",
    "search_psalms(query, tf_idf_psalm_verses, 5)"
   ]
  },
  {
   "cell_type": "markdown",
   "id": "f496ffc0",
   "metadata": {},
   "source": [
    "\n",
    "## Testing Full Psalms"
   ]
  },
  {
   "cell_type": "code",
   "execution_count": 31,
   "id": "d9b70c97",
   "metadata": {},
   "outputs": [],
   "source": [
    "import nltk\n",
    "# nltk.download('omw-1.4')"
   ]
  },
  {
   "cell_type": "code",
   "execution_count": 32,
   "id": "55332399",
   "metadata": {
    "scrolled": false
   },
   "outputs": [
    {
     "name": "stdout",
     "output_type": "stream",
     "text": [
      "\u001b[1mSearching for:\u001b[0m For the peace of the world.\n",
      "\n",
      "Top 5 results.\n",
      "    Text: Psalter\n",
      "    Psalm Number: 121\n",
      "\n",
      "   I was glad because of them that said to me, Let us go into the house of the Lord. Our feet have stood within thy courts, O Jerusalem. Jerusalem is builded as a city that is compact together. For...\n",
      "\n",
      "    Text: Bible\n",
      "    Psalm Number: 121\n",
      "\n",
      "   1An ode of ascents Iwas glad when they said to me Let us go into the house of the Lord Our feet stand in your courts O Jerusalem Jerusalem is built as a city Whose compactness is complete There the...\n",
      "\n",
      "    Text: Psalter\n",
      "    Psalm Number: 97\n",
      "\n",
      "   O sing unto the Lord a new song, for the Lord hath done marvellous things. His right hand, and His holy arm, have wrought salvation for Him. The Lord hath made known His salvation; His righteousness...\n",
      "\n",
      "    Text: Bible\n",
      "    Psalm Number: 97\n",
      "\n",
      "   A psalm by David Sing a new song to the Lord For He did wondrous things His right hand and His holy arm Saved peoples for Him The Lord made known His salvation He revealed His righteousness in the...\n",
      "\n",
      "    Text: Bible\n",
      "    Psalm Number: 95\n",
      "\n",
      "   When the house was built after the captivity an ode by David Oh sing a new song to the Lord Sing to the Lord all the earth Sing to the Lord bless His name Proclaim His salvation from day to day...\n",
      "\n"
     ]
    }
   ],
   "source": [
    "#query = input(\"Enter to text to search the Psalms: \")\n",
    "query = \"For the peace of the world\"\n",
    "\n",
    "search_psalms(query, tf_idf_psalms, 5)"
   ]
  }
 ],
 "metadata": {
  "kernelspec": {
   "display_name": "Python 3 (ipykernel)",
   "language": "python",
   "name": "python3"
  },
  "language_info": {
   "codemirror_mode": {
    "name": "ipython",
    "version": 3
   },
   "file_extension": ".py",
   "mimetype": "text/x-python",
   "name": "python",
   "nbconvert_exporter": "python",
   "pygments_lexer": "ipython3",
   "version": "3.11.3"
  }
 },
 "nbformat": 4,
 "nbformat_minor": 5
}
